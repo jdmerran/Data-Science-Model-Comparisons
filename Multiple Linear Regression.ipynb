{
 "cells": [
  {
   "cell_type": "markdown",
   "metadata": {},
   "source": [
    "# Insurance Data - Linear Models"
   ]
  },
  {
   "cell_type": "code",
   "execution_count": 1,
   "metadata": {},
   "outputs": [],
   "source": [
    "%matplotlib inline"
   ]
  },
  {
   "cell_type": "markdown",
   "metadata": {},
   "source": [
    "## Linear Regression\n",
    "\n",
    "Imports...\n",
    "Note that the models package contains several .py scripts to help with model analysis."
   ]
  },
  {
   "cell_type": "code",
   "execution_count": 2,
   "metadata": {},
   "outputs": [],
   "source": [
    "import numpy as np\n",
    "import random as py_random\n",
    "import numpy.random as np_random\n",
    "import time\n",
    "import seaborn as sns\n",
    "import matplotlib.pyplot as plt\n",
    "import pandas as pd\n",
    "import scipy.stats as stats\n",
    "import models\n",
    "\n",
    "sns.set(style=\"whitegrid\")"
   ]
  },
  {
   "cell_type": "markdown",
   "metadata": {},
   "source": [
    "Lets first download our insurance data set."
   ]
  },
  {
   "cell_type": "code",
   "execution_count": 3,
   "metadata": {},
   "outputs": [],
   "source": [
    "insurance = pd.read_csv(\"https://raw.githubusercontent.com/fundamentals-of-data-science/datasets/master/insurance.csv\")"
   ]
  },
  {
   "cell_type": "markdown",
   "metadata": {},
   "source": [
    "Now lets check that our import worked."
   ]
  },
  {
   "cell_type": "code",
   "execution_count": 4,
   "metadata": {},
   "outputs": [
    {
     "name": "stdout",
     "output_type": "stream",
     "text": [
      "<class 'pandas.core.frame.DataFrame'>\n",
      "RangeIndex: 1338 entries, 0 to 1337\n",
      "Data columns (total 7 columns):\n",
      " #   Column    Non-Null Count  Dtype  \n",
      "---  ------    --------------  -----  \n",
      " 0   age       1338 non-null   int64  \n",
      " 1   sex       1338 non-null   object \n",
      " 2   bmi       1338 non-null   float64\n",
      " 3   children  1338 non-null   int64  \n",
      " 4   smoker    1338 non-null   object \n",
      " 5   region    1338 non-null   object \n",
      " 6   charges   1338 non-null   float64\n",
      "dtypes: float64(2), int64(2), object(3)\n",
      "memory usage: 73.3+ KB\n"
     ]
    }
   ],
   "source": [
    "insurance.info()"
   ]
  },
  {
   "cell_type": "markdown",
   "metadata": {},
   "source": [
    "It looks like our data import was successful. Lets now start building our model. Our target variable is the insurance charges on each account. We want to be able to predict insurance charges based on certain characterstics of the account holder. In that sense our y variable will be the charges variable and the other data points will be what influences our variable of interest. Because we've already done EDA in a previous lab, we can refer to the extract/transform/load and exploratory data analysis juptyer notebooks for more information on each individual variable."
   ]
  },
  {
   "cell_type": "code",
   "execution_count": 5,
   "metadata": {},
   "outputs": [
    {
     "data": {
      "text/html": [
       "<div>\n",
       "<style scoped>\n",
       "    .dataframe tbody tr th:only-of-type {\n",
       "        vertical-align: middle;\n",
       "    }\n",
       "\n",
       "    .dataframe tbody tr th {\n",
       "        vertical-align: top;\n",
       "    }\n",
       "\n",
       "    .dataframe thead th {\n",
       "        text-align: right;\n",
       "    }\n",
       "</style>\n",
       "<table border=\"1\" class=\"dataframe\">\n",
       "  <thead>\n",
       "    <tr style=\"text-align: right;\">\n",
       "      <th></th>\n",
       "      <th>age</th>\n",
       "      <th>sex</th>\n",
       "      <th>bmi</th>\n",
       "      <th>children</th>\n",
       "      <th>smoker</th>\n",
       "      <th>region</th>\n",
       "      <th>charges</th>\n",
       "    </tr>\n",
       "  </thead>\n",
       "  <tbody>\n",
       "    <tr>\n",
       "      <th>0</th>\n",
       "      <td>19</td>\n",
       "      <td>female</td>\n",
       "      <td>27.900</td>\n",
       "      <td>0</td>\n",
       "      <td>yes</td>\n",
       "      <td>southwest</td>\n",
       "      <td>16884.92400</td>\n",
       "    </tr>\n",
       "    <tr>\n",
       "      <th>1</th>\n",
       "      <td>18</td>\n",
       "      <td>male</td>\n",
       "      <td>33.770</td>\n",
       "      <td>1</td>\n",
       "      <td>no</td>\n",
       "      <td>southeast</td>\n",
       "      <td>1725.55230</td>\n",
       "    </tr>\n",
       "    <tr>\n",
       "      <th>2</th>\n",
       "      <td>28</td>\n",
       "      <td>male</td>\n",
       "      <td>33.000</td>\n",
       "      <td>3</td>\n",
       "      <td>no</td>\n",
       "      <td>southeast</td>\n",
       "      <td>4449.46200</td>\n",
       "    </tr>\n",
       "    <tr>\n",
       "      <th>3</th>\n",
       "      <td>33</td>\n",
       "      <td>male</td>\n",
       "      <td>22.705</td>\n",
       "      <td>0</td>\n",
       "      <td>no</td>\n",
       "      <td>northwest</td>\n",
       "      <td>21984.47061</td>\n",
       "    </tr>\n",
       "    <tr>\n",
       "      <th>4</th>\n",
       "      <td>32</td>\n",
       "      <td>male</td>\n",
       "      <td>28.880</td>\n",
       "      <td>0</td>\n",
       "      <td>no</td>\n",
       "      <td>northwest</td>\n",
       "      <td>3866.85520</td>\n",
       "    </tr>\n",
       "  </tbody>\n",
       "</table>\n",
       "</div>"
      ],
      "text/plain": [
       "   age     sex     bmi  children smoker     region      charges\n",
       "0   19  female  27.900         0    yes  southwest  16884.92400\n",
       "1   18    male  33.770         1     no  southeast   1725.55230\n",
       "2   28    male  33.000         3     no  southeast   4449.46200\n",
       "3   33    male  22.705         0     no  northwest  21984.47061\n",
       "4   32    male  28.880         0     no  northwest   3866.85520"
      ]
     },
     "execution_count": 5,
     "metadata": {},
     "output_type": "execute_result"
    }
   ],
   "source": [
    "insurance.head()"
   ]
  },
  {
   "cell_type": "markdown",
   "metadata": {},
   "source": [
    "Lets now think a little bit about how each variable might influence the charges variable so that we can build a model that would make sense given our domain knowledge:\n",
    "* **age** - We know that the older a person is the higher the likliehood is that they require healthcare or are more likely to have conditions that require it. This should be a positive relationship.\n",
    "* **sex** - This one is a little trickier. We know that females tend to have different healthcare requirements than males. From a population perspective, females live longer then males, and if age has a positive relationship with insurance charges, then female might see higher insurance charges. But because this is a categorical variable we'll have to do some modifications to the representations to properly incorporate this variable into our model.\n",
    "* **bmi** - It seems like this would be a positive relationship, given our domain knowledge. Those who are overweight tend to have more health problems, resulting in higher insurance charges\n",
    "* **children** - This one is hard to predict. I don't think we will find any relationship and if we do it might be easier to see if we converted it into a categorical variable as well.\n",
    "* **smoker** - This was one of the most significant variables that affected insurance charges. I suspect this will have a strong positive relationship with insurance charges.\n",
    "* **region** - This one is also very hard to predict. We would also need to do some variable transformations to make this one work in a model but the effects to me seem insignificant, at least from our EDA lab. I would honestly leave this variable out.\n",
    "\n",
    "Lets now make the necessary modifications to our variables. For sex, we need to change it to a 0 - 1 variable, and lets add a categorical transformation of children to the data set. \n",
    "\n",
    "Sex categorical transformation: We will assign male patients the value of 1 and female subjects the value of 0. The baseline therefore is female subjects."
   ]
  },
  {
   "cell_type": "code",
   "execution_count": 6,
   "metadata": {},
   "outputs": [
    {
     "data": {
      "text/html": [
       "<div>\n",
       "<style scoped>\n",
       "    .dataframe tbody tr th:only-of-type {\n",
       "        vertical-align: middle;\n",
       "    }\n",
       "\n",
       "    .dataframe tbody tr th {\n",
       "        vertical-align: top;\n",
       "    }\n",
       "\n",
       "    .dataframe thead th {\n",
       "        text-align: right;\n",
       "    }\n",
       "</style>\n",
       "<table border=\"1\" class=\"dataframe\">\n",
       "  <thead>\n",
       "    <tr style=\"text-align: right;\">\n",
       "      <th></th>\n",
       "      <th>age</th>\n",
       "      <th>sex</th>\n",
       "      <th>bmi</th>\n",
       "      <th>children</th>\n",
       "      <th>smoker</th>\n",
       "      <th>region</th>\n",
       "      <th>charges</th>\n",
       "      <th>sex_mod</th>\n",
       "    </tr>\n",
       "  </thead>\n",
       "  <tbody>\n",
       "    <tr>\n",
       "      <th>0</th>\n",
       "      <td>19</td>\n",
       "      <td>female</td>\n",
       "      <td>27.900</td>\n",
       "      <td>0</td>\n",
       "      <td>yes</td>\n",
       "      <td>southwest</td>\n",
       "      <td>16884.92400</td>\n",
       "      <td>0</td>\n",
       "    </tr>\n",
       "    <tr>\n",
       "      <th>1</th>\n",
       "      <td>18</td>\n",
       "      <td>male</td>\n",
       "      <td>33.770</td>\n",
       "      <td>1</td>\n",
       "      <td>no</td>\n",
       "      <td>southeast</td>\n",
       "      <td>1725.55230</td>\n",
       "      <td>1</td>\n",
       "    </tr>\n",
       "    <tr>\n",
       "      <th>2</th>\n",
       "      <td>28</td>\n",
       "      <td>male</td>\n",
       "      <td>33.000</td>\n",
       "      <td>3</td>\n",
       "      <td>no</td>\n",
       "      <td>southeast</td>\n",
       "      <td>4449.46200</td>\n",
       "      <td>1</td>\n",
       "    </tr>\n",
       "    <tr>\n",
       "      <th>3</th>\n",
       "      <td>33</td>\n",
       "      <td>male</td>\n",
       "      <td>22.705</td>\n",
       "      <td>0</td>\n",
       "      <td>no</td>\n",
       "      <td>northwest</td>\n",
       "      <td>21984.47061</td>\n",
       "      <td>1</td>\n",
       "    </tr>\n",
       "    <tr>\n",
       "      <th>4</th>\n",
       "      <td>32</td>\n",
       "      <td>male</td>\n",
       "      <td>28.880</td>\n",
       "      <td>0</td>\n",
       "      <td>no</td>\n",
       "      <td>northwest</td>\n",
       "      <td>3866.85520</td>\n",
       "      <td>1</td>\n",
       "    </tr>\n",
       "  </tbody>\n",
       "</table>\n",
       "</div>"
      ],
      "text/plain": [
       "   age     sex     bmi  children smoker     region      charges  sex_mod\n",
       "0   19  female  27.900         0    yes  southwest  16884.92400        0\n",
       "1   18    male  33.770         1     no  southeast   1725.55230        1\n",
       "2   28    male  33.000         3     no  southeast   4449.46200        1\n",
       "3   33    male  22.705         0     no  northwest  21984.47061        1\n",
       "4   32    male  28.880         0     no  northwest   3866.85520        1"
      ]
     },
     "execution_count": 6,
     "metadata": {},
     "output_type": "execute_result"
    }
   ],
   "source": [
    "insurance[\"sex_mod\"] = np.where(insurance[\"sex\"] == 'male', 1, 0)\n",
    "insurance.head()"
   ]
  },
  {
   "cell_type": "markdown",
   "metadata": {},
   "source": [
    "Children categorical transformation: In a similar fashion, lets convert the children variable into a categorical variable."
   ]
  },
  {
   "cell_type": "code",
   "execution_count": 7,
   "metadata": {},
   "outputs": [
    {
     "data": {
      "text/html": [
       "<div>\n",
       "<style scoped>\n",
       "    .dataframe tbody tr th:only-of-type {\n",
       "        vertical-align: middle;\n",
       "    }\n",
       "\n",
       "    .dataframe tbody tr th {\n",
       "        vertical-align: top;\n",
       "    }\n",
       "\n",
       "    .dataframe thead th {\n",
       "        text-align: right;\n",
       "    }\n",
       "</style>\n",
       "<table border=\"1\" class=\"dataframe\">\n",
       "  <thead>\n",
       "    <tr style=\"text-align: right;\">\n",
       "      <th></th>\n",
       "      <th>age</th>\n",
       "      <th>sex</th>\n",
       "      <th>bmi</th>\n",
       "      <th>children</th>\n",
       "      <th>smoker</th>\n",
       "      <th>region</th>\n",
       "      <th>charges</th>\n",
       "      <th>sex_mod</th>\n",
       "      <th>hasChild</th>\n",
       "    </tr>\n",
       "  </thead>\n",
       "  <tbody>\n",
       "    <tr>\n",
       "      <th>0</th>\n",
       "      <td>19</td>\n",
       "      <td>female</td>\n",
       "      <td>27.900</td>\n",
       "      <td>0</td>\n",
       "      <td>yes</td>\n",
       "      <td>southwest</td>\n",
       "      <td>16884.92400</td>\n",
       "      <td>0</td>\n",
       "      <td>0</td>\n",
       "    </tr>\n",
       "    <tr>\n",
       "      <th>1</th>\n",
       "      <td>18</td>\n",
       "      <td>male</td>\n",
       "      <td>33.770</td>\n",
       "      <td>1</td>\n",
       "      <td>no</td>\n",
       "      <td>southeast</td>\n",
       "      <td>1725.55230</td>\n",
       "      <td>1</td>\n",
       "      <td>1</td>\n",
       "    </tr>\n",
       "    <tr>\n",
       "      <th>2</th>\n",
       "      <td>28</td>\n",
       "      <td>male</td>\n",
       "      <td>33.000</td>\n",
       "      <td>3</td>\n",
       "      <td>no</td>\n",
       "      <td>southeast</td>\n",
       "      <td>4449.46200</td>\n",
       "      <td>1</td>\n",
       "      <td>1</td>\n",
       "    </tr>\n",
       "    <tr>\n",
       "      <th>3</th>\n",
       "      <td>33</td>\n",
       "      <td>male</td>\n",
       "      <td>22.705</td>\n",
       "      <td>0</td>\n",
       "      <td>no</td>\n",
       "      <td>northwest</td>\n",
       "      <td>21984.47061</td>\n",
       "      <td>1</td>\n",
       "      <td>0</td>\n",
       "    </tr>\n",
       "    <tr>\n",
       "      <th>4</th>\n",
       "      <td>32</td>\n",
       "      <td>male</td>\n",
       "      <td>28.880</td>\n",
       "      <td>0</td>\n",
       "      <td>no</td>\n",
       "      <td>northwest</td>\n",
       "      <td>3866.85520</td>\n",
       "      <td>1</td>\n",
       "      <td>0</td>\n",
       "    </tr>\n",
       "  </tbody>\n",
       "</table>\n",
       "</div>"
      ],
      "text/plain": [
       "   age     sex     bmi  children smoker     region      charges  sex_mod  \\\n",
       "0   19  female  27.900         0    yes  southwest  16884.92400        0   \n",
       "1   18    male  33.770         1     no  southeast   1725.55230        1   \n",
       "2   28    male  33.000         3     no  southeast   4449.46200        1   \n",
       "3   33    male  22.705         0     no  northwest  21984.47061        1   \n",
       "4   32    male  28.880         0     no  northwest   3866.85520        1   \n",
       "\n",
       "   hasChild  \n",
       "0         0  \n",
       "1         1  \n",
       "2         1  \n",
       "3         0  \n",
       "4         0  "
      ]
     },
     "execution_count": 7,
     "metadata": {},
     "output_type": "execute_result"
    }
   ],
   "source": [
    "insurance[\"hasChild\"] = np.where(insurance[\"children\"] > 0, 1, 0)\n",
    "insurance.head()"
   ]
  },
  {
   "cell_type": "markdown",
   "metadata": {},
   "source": [
    "Smoker transformation: We simply need to convert yes to 1 and no to 0."
   ]
  },
  {
   "cell_type": "code",
   "execution_count": 8,
   "metadata": {},
   "outputs": [
    {
     "data": {
      "text/html": [
       "<div>\n",
       "<style scoped>\n",
       "    .dataframe tbody tr th:only-of-type {\n",
       "        vertical-align: middle;\n",
       "    }\n",
       "\n",
       "    .dataframe tbody tr th {\n",
       "        vertical-align: top;\n",
       "    }\n",
       "\n",
       "    .dataframe thead th {\n",
       "        text-align: right;\n",
       "    }\n",
       "</style>\n",
       "<table border=\"1\" class=\"dataframe\">\n",
       "  <thead>\n",
       "    <tr style=\"text-align: right;\">\n",
       "      <th></th>\n",
       "      <th>age</th>\n",
       "      <th>sex</th>\n",
       "      <th>bmi</th>\n",
       "      <th>children</th>\n",
       "      <th>smoker</th>\n",
       "      <th>region</th>\n",
       "      <th>charges</th>\n",
       "      <th>sex_mod</th>\n",
       "      <th>hasChild</th>\n",
       "    </tr>\n",
       "  </thead>\n",
       "  <tbody>\n",
       "    <tr>\n",
       "      <th>0</th>\n",
       "      <td>19</td>\n",
       "      <td>female</td>\n",
       "      <td>27.900</td>\n",
       "      <td>0</td>\n",
       "      <td>1</td>\n",
       "      <td>southwest</td>\n",
       "      <td>16884.92400</td>\n",
       "      <td>0</td>\n",
       "      <td>0</td>\n",
       "    </tr>\n",
       "    <tr>\n",
       "      <th>1</th>\n",
       "      <td>18</td>\n",
       "      <td>male</td>\n",
       "      <td>33.770</td>\n",
       "      <td>1</td>\n",
       "      <td>0</td>\n",
       "      <td>southeast</td>\n",
       "      <td>1725.55230</td>\n",
       "      <td>1</td>\n",
       "      <td>1</td>\n",
       "    </tr>\n",
       "    <tr>\n",
       "      <th>2</th>\n",
       "      <td>28</td>\n",
       "      <td>male</td>\n",
       "      <td>33.000</td>\n",
       "      <td>3</td>\n",
       "      <td>0</td>\n",
       "      <td>southeast</td>\n",
       "      <td>4449.46200</td>\n",
       "      <td>1</td>\n",
       "      <td>1</td>\n",
       "    </tr>\n",
       "    <tr>\n",
       "      <th>3</th>\n",
       "      <td>33</td>\n",
       "      <td>male</td>\n",
       "      <td>22.705</td>\n",
       "      <td>0</td>\n",
       "      <td>0</td>\n",
       "      <td>northwest</td>\n",
       "      <td>21984.47061</td>\n",
       "      <td>1</td>\n",
       "      <td>0</td>\n",
       "    </tr>\n",
       "    <tr>\n",
       "      <th>4</th>\n",
       "      <td>32</td>\n",
       "      <td>male</td>\n",
       "      <td>28.880</td>\n",
       "      <td>0</td>\n",
       "      <td>0</td>\n",
       "      <td>northwest</td>\n",
       "      <td>3866.85520</td>\n",
       "      <td>1</td>\n",
       "      <td>0</td>\n",
       "    </tr>\n",
       "  </tbody>\n",
       "</table>\n",
       "</div>"
      ],
      "text/plain": [
       "   age     sex     bmi  children  smoker     region      charges  sex_mod  \\\n",
       "0   19  female  27.900         0       1  southwest  16884.92400        0   \n",
       "1   18    male  33.770         1       0  southeast   1725.55230        1   \n",
       "2   28    male  33.000         3       0  southeast   4449.46200        1   \n",
       "3   33    male  22.705         0       0  northwest  21984.47061        1   \n",
       "4   32    male  28.880         0       0  northwest   3866.85520        1   \n",
       "\n",
       "   hasChild  \n",
       "0         0  \n",
       "1         1  \n",
       "2         1  \n",
       "3         0  \n",
       "4         0  "
      ]
     },
     "execution_count": 8,
     "metadata": {},
     "output_type": "execute_result"
    }
   ],
   "source": [
    "insurance[\"smoker\"] = np.where(insurance[\"smoker\"] == \"yes\", 1, 0)\n",
    "insurance.head()"
   ]
  },
  {
   "cell_type": "markdown",
   "metadata": {},
   "source": [
    "With these transformations, we can start building our linear model. Lets include all variables expect for the un-transformed variables sex and children, as well as region. This will give us a model that uses the following variables:\n",
    "\n",
    "age, sex, bmi, has_child, and smoker."
   ]
  },
  {
   "cell_type": "code",
   "execution_count": 9,
   "metadata": {},
   "outputs": [
    {
     "data": {
      "text/html": [
       "<p><strong>Model: charges ~ age + sex_mod + bmi + hasChild + smoker</strong><br/><table>\n",
       "<tbody>\n",
       "<tr><td>                             </td><td>                     </td><td>                     </td><td><strong>95% BCI</strong</td><td>                   </td></tr>\n",
       "<tr><td><strong>Coefficients</strong</td><td>                     </td><td><strong>Mean</strong</td><td><strong>Lo</strong     </td><td><strong>Hi</strong</td></tr>\n",
       "<tr><td>                             </td><td>$\\beta_{0}$          </td><td>-12101.34            </td><td>-14010.63               </td><td>-9624.64           </td></tr>\n",
       "<tr><td>age                          </td><td>$\\beta_{1}$          </td><td>257.83               </td><td>236.95                  </td><td>278.87             </td></tr>\n",
       "<tr><td>sex_mod                      </td><td>$\\beta_{2}$          </td><td>-123.66              </td><td>-692.48                 </td><td>443.98             </td></tr>\n",
       "<tr><td>bmi                          </td><td>$\\beta_{3}$          </td><td>322.22               </td><td>253.24                  </td><td>378.17             </td></tr>\n",
       "<tr><td>hasChild                     </td><td>$\\beta_{4}$          </td><td>992.59               </td><td>121.69                  </td><td>1726.41            </td></tr>\n",
       "<tr><td>smoker                       </td><td>$\\beta_{5}$          </td><td>23822.28             </td><td>22918.27                </td><td>24823.34           </td></tr>\n",
       "<tr><td>                             </td><td>                     </td><td>                     </td><td>                        </td><td>                   </td></tr>\n",
       "<tr><td><strong>Metrics</strong     </td><td><strong>Mean</strong</td><td><strong>Lo</strong  </td><td><strong>Hi</strong     </td><td>                   </td></tr>\n",
       "<tr><td>$\\sigma$                     </td><td>6076.79              </td><td>5748.97              </td><td>6354.91                 </td><td>                   </td></tr>\n",
       "<tr><td>$R^2$                        </td><td>0.75                 </td><td>0.72                 </td><td>0.78                    </td><td>                   </td></tr>\n",
       "</tbody>\n",
       "</table></p>"
      ],
      "text/latex": [
       "\\textbf{Model: charges $\\sim$ age + sex\\_mod + bmi + hasChild + smoker}\n",
       "\n",
       "\\begin{tabular}{lllll}\n",
       "\\toprule\n",
       "                       &               &               & \\textbf{95\\% BCI} &             \\\\\n",
       " \\textbf{Coefficients} &               & \\textbf{Mean} & \\textbf{Lo}      & \\textbf{Hi} \\\\\n",
       "                       & $\\beta_{0}$   & -12101.34     & -14010.63        & -9624.64    \\\\\n",
       " age                   & $\\beta_{1}$   & 257.83        & 236.95           & 278.87      \\\\\n",
       " sex\\_mod              & $\\beta_{2}$   & -123.66       & -692.48          & 443.98      \\\\\n",
       " bmi                   & $\\beta_{3}$   & 322.22        & 253.24           & 378.17      \\\\\n",
       " hasChild              & $\\beta_{4}$   & 992.59        & 121.69           & 1726.41     \\\\\n",
       " smoker                & $\\beta_{5}$   & 23822.28      & 22918.27         & 24823.34    \\\\\n",
       "                       &               &               &                  &             \\\\\n",
       " \\textbf{Metrics}      & \\textbf{Mean} & \\textbf{Lo}   & \\textbf{Hi}      &             \\\\\n",
       " $\\sigma$              & 6076.79       & 5748.97       & 6354.91          &             \\\\\n",
       " $R^2$                 & 0.75          & 0.72          & 0.78             &             \\\\\n",
       "\\bottomrule\n",
       "\\end{tabular}"
      ],
      "text/markdown": [
       "Model: charges ~ age + sex_mod + bmi + hasChild + smoker\n",
       "|------------------|-------------|-----------|-------------|----------|\n",
       "|                  |             |           | **95% BCI** |          |\n",
       "| **Coefficients** |             | **Mean**  | **Lo**      | **Hi**   |\n",
       "|                  | $\\beta_{0}$ | -12101.34 | -14010.63   | -9624.64 |\n",
       "| age              | $\\beta_{1}$ | 257.83    | 236.95      | 278.87   |\n",
       "| sex_mod          | $\\beta_{2}$ | -123.66   | -692.48     | 443.98   |\n",
       "| bmi              | $\\beta_{3}$ | 322.22    | 253.24      | 378.17   |\n",
       "| hasChild         | $\\beta_{4}$ | 992.59    | 121.69      | 1726.41  |\n",
       "| smoker           | $\\beta_{5}$ | 23822.28  | 22918.27    | 24823.34 |\n",
       "|                  |             |           |             |          |\n",
       "| **Metrics**      | **Mean**    | **Lo**    | **Hi**      |          |\n",
       "| $\\sigma$         | 6076.79     | 5748.97   | 6354.91     |          |\n",
       "| $R^2$            | 0.75        | 0.72      | 0.78        |          |"
      ],
      "text/plain": [
       "<models.ResultsWrapper at 0x7fc713c9f910>"
      ]
     },
     "execution_count": 9,
     "metadata": {},
     "output_type": "execute_result"
    }
   ],
   "source": [
    "model =  \"charges ~ age + sex_mod + bmi + hasChild + smoker\"\n",
    "result = models.bootstrap_linear_regression(model, data=insurance)\n",
    "models.describe_bootstrap_lr(result)"
   ]
  },
  {
   "cell_type": "markdown",
   "metadata": {},
   "source": [
    "Right away the $R^2$ isn't too bad. about 75% of the variation can be explained by our model. To see if we did better than a null mean model, we can do a little description of the charges variable and see what the mean and standard deviation is."
   ]
  },
  {
   "cell_type": "code",
   "execution_count": 10,
   "metadata": {},
   "outputs": [
    {
     "data": {
      "text/plain": [
       "count     1338.000000\n",
       "mean     13270.422265\n",
       "std      12110.011237\n",
       "min       1121.873900\n",
       "25%       4740.287150\n",
       "50%       9382.033000\n",
       "75%      16639.912515\n",
       "max      63770.428010\n",
       "Name: charges, dtype: float64"
      ]
     },
     "execution_count": 10,
     "metadata": {},
     "output_type": "execute_result"
    }
   ],
   "source": [
    "insurance[\"charges\"].describe()"
   ]
  },
  {
   "cell_type": "markdown",
   "metadata": {},
   "source": [
    "The error we get using our linear model is pretty good. Compared to the standard deviation of 12100 using the null model, we have an mean error of 6076. I'm fairly happy with this model, but lets explore a bit and see what each coefficient means."
   ]
  },
  {
   "cell_type": "code",
   "execution_count": 11,
   "metadata": {},
   "outputs": [
    {
     "name": "stdout",
     "output_type": "stream",
     "text": [
      "age P(>0)=1.000 (strong)\n",
      "sex_mod P(>0)=0.350 (mixed)\n",
      "bmi P(>0)=1.000 (strong)\n",
      "hasChild P(>0)=0.980 (strong)\n",
      "smoker P(>0)=1.000 (strong)\n"
     ]
    }
   ],
   "source": [
    "predictions = {\"age\": \"+\", \"sex_mod\": \"+\", \"bmi\": \"+\", \"hasChild\": \"+\", \"smoker\": \"+\"}\n",
    "models.evaluate_coefficient_predictions(predictions, result)"
   ]
  },
  {
   "cell_type": "markdown",
   "metadata": {},
   "source": [
    "All variables that we obtained coefficients for seem to be positively related with charges, except for sex, which had a 95% BCI of -576 - 506. The rest of the variables actually offer very strong evidence of a positive relationship. According to our data set, there is a 100% chance that age, bmi, having children, and being a smoker all contribute in a positive manner to the amount o charges. This is informative, but we to what degree are each of these variables actually contributing to the differences in charges? One way we can start to tease apart these differences is by looking for any collinearity in our data set.\n",
    "\n",
    "Using domain knowledge, we can start by perhaps looking at bmi and age. Surely as we age it becomes more difficult for people to maintain their weight and there might be a strong correlation between those two variables? The other ones don't make too much sense to investigate for collinearities. Would smoking and having children make any sense to investigate? I don't think so."
   ]
  },
  {
   "cell_type": "code",
   "execution_count": 12,
   "metadata": {},
   "outputs": [
    {
     "name": "stdout",
     "output_type": "stream",
     "text": [
      "age v bmi = 0.11\n"
     ]
    }
   ],
   "source": [
    "print(\"age v bmi = {0:.2f}\".format(stats.pearsonr(insurance.age, insurance.bmi)[0]))"
   ]
  },
  {
   "cell_type": "markdown",
   "metadata": {},
   "source": [
    "It turns out that there isn't really that much correlation between those two variables so I suspect we're in the clear in that regard. Lets return to the sex variable and ask why that prediction is weak. In the EDA/ETL, we can return to the pairwise investigation of sex and charges that was performed. Lets repeat the boxplot comparison we did to illustrate."
   ]
  },
  {
   "cell_type": "code",
   "execution_count": 13,
   "metadata": {},
   "outputs": [
    {
     "data": {
      "image/png": "[encoded data removed]",
      "text/plain": [
       "<Figure size 720x432 with 1 Axes>"
      ]
     },
     "metadata": {},
     "output_type": "display_data"
    }
   ],
   "source": [
    "def multiboxplot(data, numeric, categorical, skip_data_points=True):\n",
    "    figure = plt.figure(figsize=(10, 6))\n",
    "\n",
    "    axes = figure.add_subplot(1, 1, 1)\n",
    "\n",
    "    grouped = data.groupby(categorical)\n",
    "    labels = pd.unique(data[categorical].values)\n",
    "    labels.sort()\n",
    "    grouped_data = [grouped[numeric].get_group( k) for k in labels]\n",
    "    patch = axes.boxplot( grouped_data, labels=labels, zorder=1)\n",
    "\n",
    "    if not skip_data_points:\n",
    "        for i, k in enumerate(labels):\n",
    "            subdata = grouped[numeric].get_group( k)\n",
    "            x = np.random.normal(i + 1, 0.01, size=len(subdata))\n",
    "            axes.plot(x, subdata, 'o', alpha=0.4, color=\"DimGray\", zorder=2)\n",
    "\n",
    "    axes.set_xlabel(categorical)\n",
    "    axes.set_ylabel(numeric)\n",
    "    axes.set_title(\"Distribution of {0} by {1}\".format(numeric, categorical))\n",
    "\n",
    "    plt.show()\n",
    "    plt.close()\n",
    "\n",
    "multiboxplot(insurance, 'charges', 'sex')"
   ]
  },
  {
   "cell_type": "markdown",
   "metadata": {},
   "source": [
    "There isn't much of a difference between men and women so as expected it would be very hard to find a signal using sex as a variable."
   ]
  },
  {
   "cell_type": "markdown",
   "metadata": {},
   "source": [
    "Finally, we know we have a pretty good model with an $R^2$ of 0.75. Lets check the adjusted $R^2$ to see if that is a resulf of having 5 variables in our model."
   ]
  },
  {
   "cell_type": "code",
   "execution_count": 14,
   "metadata": {},
   "outputs": [
    {
     "data": {
      "text/plain": [
       "0.7478194540201135"
      ]
     },
     "execution_count": 14,
     "metadata": {},
     "output_type": "execute_result"
    }
   ],
   "source": [
    "models.adjusted_r_squared(result)"
   ]
  },
  {
   "cell_type": "markdown",
   "metadata": {},
   "source": [
    "Adjusting for the number of variables in our model, we still have a good $R^2$ of about 0.75. With this linear model, we correctly predicted the sign of each coefficient except for the has_children variable. As it turns out having children tends to increase the charge rate by a small amount. Nowhere near the amount associated with smoking, but this was interesting to see.\n",
    "\n",
    "Now, we can go back and try and include region in our model. Its a categorical variable with 4 possibilities. In order to use this data point in our model we need to decide how to incorporate it into our model. First we need dummy variables. Luckily, pandas provides an easy way to do this."
   ]
  },
  {
   "cell_type": "code",
   "execution_count": 15,
   "metadata": {},
   "outputs": [
    {
     "data": {
      "text/html": [
       "<div>\n",
       "<style scoped>\n",
       "    .dataframe tbody tr th:only-of-type {\n",
       "        vertical-align: middle;\n",
       "    }\n",
       "\n",
       "    .dataframe tbody tr th {\n",
       "        vertical-align: top;\n",
       "    }\n",
       "\n",
       "    .dataframe thead th {\n",
       "        text-align: right;\n",
       "    }\n",
       "</style>\n",
       "<table border=\"1\" class=\"dataframe\">\n",
       "  <thead>\n",
       "    <tr style=\"text-align: right;\">\n",
       "      <th></th>\n",
       "      <th>age</th>\n",
       "      <th>sex</th>\n",
       "      <th>bmi</th>\n",
       "      <th>children</th>\n",
       "      <th>smoker</th>\n",
       "      <th>region</th>\n",
       "      <th>charges</th>\n",
       "      <th>sex_mod</th>\n",
       "      <th>hasChild</th>\n",
       "      <th>in_northeast</th>\n",
       "      <th>in_northwest</th>\n",
       "      <th>in_southeast</th>\n",
       "      <th>in_southwest</th>\n",
       "    </tr>\n",
       "  </thead>\n",
       "  <tbody>\n",
       "    <tr>\n",
       "      <th>0</th>\n",
       "      <td>19</td>\n",
       "      <td>female</td>\n",
       "      <td>27.900</td>\n",
       "      <td>0</td>\n",
       "      <td>1</td>\n",
       "      <td>southwest</td>\n",
       "      <td>16884.92400</td>\n",
       "      <td>0</td>\n",
       "      <td>0</td>\n",
       "      <td>0</td>\n",
       "      <td>0</td>\n",
       "      <td>0</td>\n",
       "      <td>1</td>\n",
       "    </tr>\n",
       "    <tr>\n",
       "      <th>1</th>\n",
       "      <td>18</td>\n",
       "      <td>male</td>\n",
       "      <td>33.770</td>\n",
       "      <td>1</td>\n",
       "      <td>0</td>\n",
       "      <td>southeast</td>\n",
       "      <td>1725.55230</td>\n",
       "      <td>1</td>\n",
       "      <td>1</td>\n",
       "      <td>0</td>\n",
       "      <td>0</td>\n",
       "      <td>1</td>\n",
       "      <td>0</td>\n",
       "    </tr>\n",
       "    <tr>\n",
       "      <th>2</th>\n",
       "      <td>28</td>\n",
       "      <td>male</td>\n",
       "      <td>33.000</td>\n",
       "      <td>3</td>\n",
       "      <td>0</td>\n",
       "      <td>southeast</td>\n",
       "      <td>4449.46200</td>\n",
       "      <td>1</td>\n",
       "      <td>1</td>\n",
       "      <td>0</td>\n",
       "      <td>0</td>\n",
       "      <td>1</td>\n",
       "      <td>0</td>\n",
       "    </tr>\n",
       "    <tr>\n",
       "      <th>3</th>\n",
       "      <td>33</td>\n",
       "      <td>male</td>\n",
       "      <td>22.705</td>\n",
       "      <td>0</td>\n",
       "      <td>0</td>\n",
       "      <td>northwest</td>\n",
       "      <td>21984.47061</td>\n",
       "      <td>1</td>\n",
       "      <td>0</td>\n",
       "      <td>0</td>\n",
       "      <td>1</td>\n",
       "      <td>0</td>\n",
       "      <td>0</td>\n",
       "    </tr>\n",
       "    <tr>\n",
       "      <th>4</th>\n",
       "      <td>32</td>\n",
       "      <td>male</td>\n",
       "      <td>28.880</td>\n",
       "      <td>0</td>\n",
       "      <td>0</td>\n",
       "      <td>northwest</td>\n",
       "      <td>3866.85520</td>\n",
       "      <td>1</td>\n",
       "      <td>0</td>\n",
       "      <td>0</td>\n",
       "      <td>1</td>\n",
       "      <td>0</td>\n",
       "      <td>0</td>\n",
       "    </tr>\n",
       "  </tbody>\n",
       "</table>\n",
       "</div>"
      ],
      "text/plain": [
       "   age     sex     bmi  children  smoker     region      charges  sex_mod  \\\n",
       "0   19  female  27.900         0       1  southwest  16884.92400        0   \n",
       "1   18    male  33.770         1       0  southeast   1725.55230        1   \n",
       "2   28    male  33.000         3       0  southeast   4449.46200        1   \n",
       "3   33    male  22.705         0       0  northwest  21984.47061        1   \n",
       "4   32    male  28.880         0       0  northwest   3866.85520        1   \n",
       "\n",
       "   hasChild  in_northeast  in_northwest  in_southeast  in_southwest  \n",
       "0         0             0             0             0             1  \n",
       "1         1             0             0             1             0  \n",
       "2         1             0             0             1             0  \n",
       "3         0             0             1             0             0  \n",
       "4         0             0             1             0             0  "
      ]
     },
     "execution_count": 15,
     "metadata": {},
     "output_type": "execute_result"
    }
   ],
   "source": [
    "insurance = pd.concat([insurance, pd.get_dummies(insurance[\"region\"], prefix=\"in\")], axis=1)\n",
    "insurance.head()"
   ]
  },
  {
   "cell_type": "markdown",
   "metadata": {},
   "source": [
    "We need $m-1$ variables for each of the $m$  one-hot encoded variables. As a baseline in our model, I will incoporate the northeast region because that is where I am from. (arbitrary I know but this data point seems arbitrary enough!) Perhaps different regions influence insurance charges due through differences in culture?"
   ]
  },
  {
   "cell_type": "code",
   "execution_count": 16,
   "metadata": {},
   "outputs": [
    {
     "data": {
      "text/html": [
       "<p><strong>Model: charges ~ age + sex_mod + bmi + hasChild + smoker + in_northwest + in_southwest + in_southeast</strong><br/><table>\n",
       "<tbody>\n",
       "<tr><td>                             </td><td>                     </td><td>                     </td><td><strong>95% BCI</strong</td><td>                   </td></tr>\n",
       "<tr><td><strong>Coefficients</strong</td><td>                     </td><td><strong>Mean</strong</td><td><strong>Lo</strong     </td><td><strong>Hi</strong</td></tr>\n",
       "<tr><td>                             </td><td>$\\beta_{0}$          </td><td>-12001.01            </td><td>-14145.07               </td><td>-9948.33           </td></tr>\n",
       "<tr><td>age                          </td><td>$\\beta_{1}$          </td><td>256.91               </td><td>229.63                  </td><td>277.98             </td></tr>\n",
       "<tr><td>sex_mod                      </td><td>$\\beta_{2}$          </td><td>-126.41              </td><td>-707.28                 </td><td>537.63             </td></tr>\n",
       "<tr><td>bmi                          </td><td>$\\beta_{3}$          </td><td>339.51               </td><td>284.39                  </td><td>385.43             </td></tr>\n",
       "<tr><td>hasChild                     </td><td>$\\beta_{4}$          </td><td>999.58               </td><td>466.24                  </td><td>1594.87            </td></tr>\n",
       "<tr><td>smoker                       </td><td>$\\beta_{5}$          </td><td>23849.65             </td><td>22812.95                </td><td>24977.94           </td></tr>\n",
       "<tr><td>in_northwest                 </td><td>$\\beta_{6}$          </td><td>-352.22              </td><td>-1038.27                </td><td>659.44             </td></tr>\n",
       "<tr><td>in_southwest                 </td><td>$\\beta_{7}$          </td><td>-944.26              </td><td>-1839.31                </td><td>-91.26             </td></tr>\n",
       "<tr><td>in_southeast                 </td><td>$\\beta_{8}$          </td><td>-1057.33             </td><td>-1933.12                </td><td>-280.41            </td></tr>\n",
       "<tr><td>                             </td><td>                     </td><td>                     </td><td>                        </td><td>                   </td></tr>\n",
       "<tr><td><strong>Metrics</strong     </td><td><strong>Mean</strong</td><td><strong>Lo</strong  </td><td><strong>Hi</strong     </td><td>                   </td></tr>\n",
       "<tr><td>$\\sigma$                     </td><td>6069.01              </td><td>5753.72              </td><td>6429.17                 </td><td>                   </td></tr>\n",
       "<tr><td>$R^2$                        </td><td>0.75                 </td><td>0.72                 </td><td>0.78                    </td><td>                   </td></tr>\n",
       "</tbody>\n",
       "</table></p>"
      ],
      "text/latex": [
       "\\textbf{Model: charges $\\sim$ age + sex\\_mod + bmi + hasChild + smoker + in\\_northwest + in\\_southwest + in\\_southeast}\n",
       "\n",
       "\\begin{tabular}{lllll}\n",
       "\\toprule\n",
       "                       &               &               & \\textbf{95\\% BCI} &             \\\\\n",
       " \\textbf{Coefficients} &               & \\textbf{Mean} & \\textbf{Lo}      & \\textbf{Hi} \\\\\n",
       "                       & $\\beta_{0}$   & -12001.01     & -14145.07        & -9948.33    \\\\\n",
       " age                   & $\\beta_{1}$   & 256.91        & 229.63           & 277.98      \\\\\n",
       " sex\\_mod              & $\\beta_{2}$   & -126.41       & -707.28          & 537.63      \\\\\n",
       " bmi                   & $\\beta_{3}$   & 339.51        & 284.39           & 385.43      \\\\\n",
       " hasChild              & $\\beta_{4}$   & 999.58        & 466.24           & 1594.87     \\\\\n",
       " smoker                & $\\beta_{5}$   & 23849.65      & 22812.95         & 24977.94    \\\\\n",
       " in\\_northwest         & $\\beta_{6}$   & -352.22       & -1038.27         & 659.44      \\\\\n",
       " in\\_southwest         & $\\beta_{7}$   & -944.26       & -1839.31         & -91.26      \\\\\n",
       " in\\_southeast         & $\\beta_{8}$   & -1057.33      & -1933.12         & -280.41     \\\\\n",
       "                       &               &               &                  &             \\\\\n",
       " \\textbf{Metrics}      & \\textbf{Mean} & \\textbf{Lo}   & \\textbf{Hi}      &             \\\\\n",
       " $\\sigma$              & 6069.01       & 5753.72       & 6429.17          &             \\\\\n",
       " $R^2$                 & 0.75          & 0.72          & 0.78             &             \\\\\n",
       "\\bottomrule\n",
       "\\end{tabular}"
      ],
      "text/markdown": [
       "Model: charges ~ age + sex_mod + bmi + hasChild + smoker + in_northwest + in_southwest + in_southeast\n",
       "|------------------|-------------|-----------|-------------|----------|\n",
       "|                  |             |           | **95% BCI** |          |\n",
       "| **Coefficients** |             | **Mean**  | **Lo**      | **Hi**   |\n",
       "|                  | $\\beta_{0}$ | -12001.01 | -14145.07   | -9948.33 |\n",
       "| age              | $\\beta_{1}$ | 256.91    | 229.63      | 277.98   |\n",
       "| sex_mod          | $\\beta_{2}$ | -126.41   | -707.28     | 537.63   |\n",
       "| bmi              | $\\beta_{3}$ | 339.51    | 284.39      | 385.43   |\n",
       "| hasChild         | $\\beta_{4}$ | 999.58    | 466.24      | 1594.87  |\n",
       "| smoker           | $\\beta_{5}$ | 23849.65  | 22812.95    | 24977.94 |\n",
       "| in_northwest     | $\\beta_{6}$ | -352.22   | -1038.27    | 659.44   |\n",
       "| in_southwest     | $\\beta_{7}$ | -944.26   | -1839.31    | -91.26   |\n",
       "| in_southeast     | $\\beta_{8}$ | -1057.33  | -1933.12    | -280.41  |\n",
       "|                  |             |           |             |          |\n",
       "| **Metrics**      | **Mean**    | **Lo**    | **Hi**      |          |\n",
       "| $\\sigma$         | 6069.01     | 5753.72   | 6429.17     |          |\n",
       "| $R^2$            | 0.75        | 0.72      | 0.78        |          |"
      ],
      "text/plain": [
       "<models.ResultsWrapper at 0x7fc70bc2cf40>"
      ]
     },
     "execution_count": 16,
     "metadata": {},
     "output_type": "execute_result"
    }
   ],
   "source": [
    "model =  \"charges ~ age + sex_mod + bmi + hasChild + smoker + in_northwest + in_southwest + in_southeast\"\n",
    "result = models.bootstrap_linear_regression(model, data=insurance)\n",
    "models.describe_bootstrap_lr(result)"
   ]
  },
  {
   "cell_type": "markdown",
   "metadata": {},
   "source": [
    "First, incorporating region does virtually nothing for our $R^2$. We still have a respectable 75% of our variation explained by our model, and a decent 50% improvement in error compared to the standard null model (from about 12K to 6K). However, adjusting from the northeast region to other areas, we see and overall negative relationship with the southwest and southeast regions which was surprising to see. Lets look at our 95% BCIs and see if these are believable."
   ]
  },
  {
   "cell_type": "code",
   "execution_count": 17,
   "metadata": {
    "scrolled": true
   },
   "outputs": [
    {
     "name": "stdout",
     "output_type": "stream",
     "text": [
      "age P(>0)=1.000 (strong)\n",
      "sex_mod P(>0)=0.360 (mixed)\n",
      "bmi P(>0)=1.000 (strong)\n",
      "hasChild P(>0)=1.000 (strong)\n",
      "smoker P(>0)=1.000 (strong)\n",
      "in_northwest P(>0)=0.260 (weak)\n",
      "in_southwest P(>0)=0.020 (weak)\n",
      "in_southeast P(>0)=0.010 (weak)\n"
     ]
    }
   ],
   "source": [
    "predictions = {\"age\": \"+\", \"sex_mod\": \"+\", \"bmi\": \"+\", \"hasChild\": \"+\", \"smoker\": \"+\", \"in_northwest\":\"+\", \"in_southwest\":\"+\", \"in_southeast\":\"+\"}\n",
    "models.evaluate_coefficient_predictions(predictions, result)"
   ]
  },
  {
   "cell_type": "markdown",
   "metadata": {},
   "source": [
    "All three regions have a pretty strong probability of being negatively correlated with the target variable. Both southwest and southeast are high at P<=0 of 0.99 and the northwest region with a P<=0 of 0.77. This was not what I expected before building this version of the model. Perhaps my misconception of those regions is due to me understanding the process that generates this insurance data set. Instead of thinking of the region as a predictor of lifestyle, perhaps its more of a predictor of pricing of medical care, where procedures are the same but cost is higher. This doesn't seem at all impossible given that cost of living in the northeast region like new york city or boston could be significantly higher than in more rural farm areas in the southeast (or anywhere in the midwest). Knowing how they geographically partitioned the USA into the four regions might help elucidate that difference a bit better as well. If there are more rural areas incorporated into regions that are not the northeast that could explain insurance costs being lower.\n",
    "\n",
    "Overall, I'm rather satisfied with this linear model and would be comfortable doing some preliminary predictions using it."
   ]
  },
  {
   "cell_type": "code",
   "execution_count": null,
   "metadata": {},
   "outputs": [],
   "source": []
  }
 ],
 "metadata": {
  "jupytext": {
   "formats": "ipynb,md:myst"
  },
  "kernelspec": {
   "display_name": "Python 3 (ipykernel)",
   "language": "python",
   "name": "python3"
  },
  "language_info": {
   "codemirror_mode": {
    "name": "ipython",
    "version": 3
   },
   "file_extension": ".py",
   "mimetype": "text/x-python",
   "name": "python",
   "nbconvert_exporter": "python",
   "pygments_lexer": "ipython3",
   "version": "3.9.13"
  },
  "toc": {
   "colors": {
    "hover_highlight": "#DAA520",
    "navigate_num": "#000000",
    "navigate_text": "#333333",
    "running_highlight": "#FF0000",
    "selected_highlight": "#FFD700",
    "sidebar_border": "#EEEEEE",
    "wrapper_background": "#FFFFFF"
   },
   "moveMenuLeft": true,
   "nav_menu": {
    "height": "156px",
    "width": "252px"
   },
   "navigate_menu": true,
   "number_sections": true,
   "sideBar": true,
   "threshold": 4,
   "toc_cell": false,
   "toc_section_display": "block",
   "toc_window_display": false,
   "widenNotebook": false
  }
 },
 "nbformat": 4,
 "nbformat_minor": 4
}
